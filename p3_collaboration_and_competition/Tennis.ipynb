{
 "cells": [
  {
   "cell_type": "markdown",
   "metadata": {},
   "source": [
    "# Collaboration and Competition\n",
    "\n",
    "---\n",
    "\n",
    "You are welcome to use this coding environment to train your agent for the project.  Follow the instructions below to get started!\n",
    "\n",
    "### 1. Start the Environment\n",
    "\n",
    "Run the next code cell to install a few packages.  This line will take a few minutes to run!"
   ]
  },
  {
   "cell_type": "code",
   "execution_count": 1,
   "metadata": {},
   "outputs": [
    {
     "name": "stdout",
     "output_type": "stream",
     "text": [
      "\u001b[31mtensorflow 1.7.1 has requirement numpy>=1.13.3, but you'll have numpy 1.12.1 which is incompatible.\u001b[0m\r\n",
      "\u001b[31mipython 6.5.0 has requirement prompt-toolkit<2.0.0,>=1.0.15, but you'll have prompt-toolkit 2.0.10 which is incompatible.\u001b[0m\r\n"
     ]
    }
   ],
   "source": [
    "!pip -q install ./python"
   ]
  },
  {
   "cell_type": "markdown",
   "metadata": {},
   "source": [
    "The environment is already saved in the Workspace and can be accessed at the file path provided below. "
   ]
  },
  {
   "cell_type": "code",
   "execution_count": 2,
   "metadata": {},
   "outputs": [
    {
     "name": "stderr",
     "output_type": "stream",
     "text": [
      "INFO:unityagents:\n",
      "'Academy' started successfully!\n",
      "Unity Academy name: Academy\n",
      "        Number of Brains: 1\n",
      "        Number of External Brains : 1\n",
      "        Lesson number : 0\n",
      "        Reset Parameters :\n",
      "\t\t\n",
      "Unity brain name: TennisBrain\n",
      "        Number of Visual Observations (per agent): 0\n",
      "        Vector Observation space type: continuous\n",
      "        Vector Observation space size (per agent): 8\n",
      "        Number of stacked Vector Observation: 3\n",
      "        Vector Action space type: continuous\n",
      "        Vector Action space size (per agent): 2\n",
      "        Vector Action descriptions: , \n"
     ]
    }
   ],
   "source": [
    "from unityagents import UnityEnvironment\n",
    "import numpy as np\n",
    "\n",
    "env = UnityEnvironment(file_name=\"/data/Tennis_Linux_NoVis/Tennis\")"
   ]
  },
  {
   "cell_type": "markdown",
   "metadata": {},
   "source": [
    "Environments contain **_brains_** which are responsible for deciding the actions of their associated agents. Here we check for the first brain available, and set it as the default brain we will be controlling from Python."
   ]
  },
  {
   "cell_type": "code",
   "execution_count": 3,
   "metadata": {},
   "outputs": [],
   "source": [
    "# get the default brain\n",
    "brain_name = env.brain_names[0]\n",
    "brain = env.brains[brain_name]"
   ]
  },
  {
   "cell_type": "markdown",
   "metadata": {},
   "source": [
    "### 2. Examine the State and Action Spaces\n",
    "\n",
    "Run the code cell below to print some information about the environment."
   ]
  },
  {
   "cell_type": "code",
   "execution_count": 4,
   "metadata": {},
   "outputs": [
    {
     "name": "stdout",
     "output_type": "stream",
     "text": [
      "Number of agents: 2\n",
      "Size of each action: 2\n",
      "There are 2 agents. Each observes a state with length: 24\n",
      "The state for the first agent looks like: [ 0.          0.          0.          0.          0.          0.          0.\n",
      "  0.          0.          0.          0.          0.          0.          0.\n",
      "  0.          0.         -6.65278625 -1.5        -0.          0.\n",
      "  6.83172083  6.         -0.          0.        ]\n",
      "The state for the second agent looks like: [ 0.          0.          0.          0.          0.          0.          0.\n",
      "  0.          0.          0.          0.          0.          0.          0.\n",
      "  0.          0.         -6.4669857  -1.5         0.          0.\n",
      " -6.83172083  6.          0.          0.        ]\n"
     ]
    }
   ],
   "source": [
    "# reset the environment\n",
    "env_info = env.reset(train_mode=True)[brain_name]\n",
    "\n",
    "# number of agents \n",
    "num_agents = len(env_info.agents)\n",
    "print('Number of agents:', num_agents)\n",
    "\n",
    "# size of each action\n",
    "action_size = brain.vector_action_space_size\n",
    "print('Size of each action:', action_size)\n",
    "\n",
    "# examine the state space \n",
    "states = env_info.vector_observations\n",
    "state_size = states.shape[1]\n",
    "print('There are {} agents. Each observes a state with length: {}'.format(states.shape[0], state_size))\n",
    "print('The state for the first agent looks like:', states[0])\n",
    "print('The state for the second agent looks like:', states[1])\n",
    "#print(states)"
   ]
  },
  {
   "cell_type": "markdown",
   "metadata": {},
   "source": [
    "### 4. It's Your Turn!\n",
    "\n",
    "Now it's your turn to train your own agent to solve the environment!  A few **important notes**:\n",
    "- When training the environment, set `train_mode=True`, so that the line for resetting the environment looks like the following:\n",
    "```python\n",
    "env_info = env.reset(train_mode=True)[brain_name]\n",
    "```\n",
    "- To structure your work, you're welcome to work directly in this Jupyter notebook, or you might like to start over with a new file!  You can see the list of files in the workspace by clicking on **_Jupyter_** in the top left corner of the notebook.\n",
    "- In this coding environment, you will not be able to watch the agents while they are training.  However, **_after training the agents_**, you can download the saved model weights to watch the agents on your own machine! "
   ]
  },
  {
   "cell_type": "code",
   "execution_count": 5,
   "metadata": {},
   "outputs": [],
   "source": [
    "from maddpg import MADDPGAgents\n",
    "\n",
    "agent0_weights_actor = \"agent0_weights_actor.pth\"\n",
    "agent0_weights_critic = \"agent0_weights_critic.pth\"\n",
    "agent1_weights_actor = \"agent1_weights_actor.pth\"\n",
    "agent1_weights_critic = \"agent1_weights_critic.pth\"\n",
    "\n",
    "agents = MADDPGAgents(state_size=state_size, action_size=action_size, num_agents=num_agents, random_seed=0)"
   ]
  },
  {
   "cell_type": "code",
   "execution_count": 6,
   "metadata": {},
   "outputs": [
    {
     "name": "stdout",
     "output_type": "stream",
     "text": [
      "Episode 100\tScore: 0.00000\tAverage score: 0.01740\n",
      "Episode 200\tScore: 0.00000\tAverage score: 0.01950\n",
      "Episode 300\tScore: 0.10000\tAverage score: 0.00800\n",
      "Episode 400\tScore: 0.00000\tAverage score: 0.03100\n",
      "Episode 500\tScore: 0.10000\tAverage score: 0.07170\n",
      "Episode 600\tScore: 0.00000\tAverage score: 0.11970\n",
      "Episode 700\tScore: 0.10000\tAverage score: 0.43080\n",
      "Episode 753\tScore: 2.60000\tAverage score: 0.51390\n",
      "\n",
      "Environment solved in 753 episodes!\tAverage score: 0.51390\n"
     ]
    },
    {
     "data": {
      "image/png": "[encoded data removed]",
      "text/plain": [
       "<matplotlib.figure.Figure at 0x7f433e8a42b0>"
      ]
     },
     "metadata": {
      "needs_background": "light"
     },
     "output_type": "display_data"
    }
   ],
   "source": [
    "from collections import deque\n",
    "import matplotlib.pyplot as plt\n",
    "import torch\n",
    "import workspace_utils as wu\n",
    "\n",
    "%matplotlib inline\n",
    "\n",
    "def train_maddpg(environment, agents, agent0_weights_actor, agent0_weights_critic, \\\n",
    "                 agent1_weights_actor, agent1_weights_critic, n_episodes=2000):\n",
    "    \"\"\"Mutli Agent Deep Deterministic Policy Gradient Learning for the given agent in the given environment.\n",
    "\n",
    "    Params\n",
    "    ======\n",
    "        environment (UnityEnvironment): environment\n",
    "        agents (MADDPGAgents): MADDPGAgents object representing the parallel agents\n",
    "        agent0_weights_actor (str): file containing the weights for the actor for agent0\n",
    "        agent0_weights_critic (str): file containing the weights for the critic for agent0\n",
    "        agent1_weights_actor (str): file containing the weights for the actor for agent1\n",
    "        agent1_weights_critic (str): file containing the weights for the critic for agent1\n",
    "        n_episodes (int): maximum number of training episodes\n",
    "    \"\"\"\n",
    "    brain_name = environment.brain_names[0]\n",
    "\n",
    "    scores = []  # list containing scores from each episode\n",
    "    scores_window = deque(maxlen=100)  # last 100 scores\n",
    "    \n",
    "    INITIAL_EXPLORATION = 200 # no learning for the first INITIAL_EXPLORATION episodes, and choose an action randomly  \n",
    "\n",
    "    for i_episode in range(1, n_episodes + 1):\n",
    "        environment_info = environment.reset(train_mode=True)[brain_name]  # reset the environment\n",
    "        states = environment_info.vector_observations\n",
    "        \n",
    "        agents.reset()                                      \n",
    "        score = np.zeros(num_agents)\n",
    "        \n",
    "        time_step = 0\n",
    "        \n",
    "        while True:\n",
    "            time_step += 1\n",
    "            \n",
    "            if i_episode < INITIAL_EXPLORATION:\n",
    "                is_learning = False\n",
    "                actions = np.random.randn(num_agents, action_size) # select an action (for each agent)\n",
    "                actions = np.clip(actions, -1, 1)                  # all actions between -1 and 1\n",
    "            else:\n",
    "                is_learning = True\n",
    "                actions = agents.act(states, add_noise=True)\n",
    "                       \n",
    "            environment_info = environment.step(actions)[brain_name]  # send the action to the environment\n",
    "            next_states = environment_info.vector_observations\n",
    "            rewards = environment_info.rewards            \n",
    "            dones = environment_info.local_done\n",
    "\n",
    "            agents.step(time_step, states, actions, rewards, next_states, dones, is_learning)\n",
    "            states = next_states\n",
    "            score += rewards\n",
    "\n",
    "            if np.any(dones):\n",
    "                #print('\\tSteps: ', t)\n",
    "                break\n",
    "\n",
    "        # count maximum score of two agents        \n",
    "        scores_window.append(np.max(score))\n",
    "        scores.append(np.max(score))\n",
    "\n",
    "        average_score = np.mean(scores_window)\n",
    "        print('\\rEpisode {}\\tScore: {:.5f}\\tAverage score: {:.5f}'.format(i_episode, np.max(score), average_score), end='')\n",
    "\n",
    "        if i_episode % 100 == 0 or average_score > 0.5:\n",
    "            print('\\rEpisode {}\\tScore: {:.5f}\\tAverage score: {:.5f}'.format(i_episode, np.max(score), average_score))\n",
    "            torch.save(agents.agents[0].actor.state_dict(), '{}'.format(agent0_weights_actor))\n",
    "            torch.save(agents.agents[0].critic.state_dict(), '{}'.format(agent0_weights_critic))\n",
    "            torch.save(agents.agents[1].actor.state_dict(), '{}'.format(agent1_weights_actor))\n",
    "            torch.save(agents.agents[1].critic.state_dict(), '{}'.format(agent1_weights_critic))\n",
    "\n",
    "        if average_score >= 0.5:\n",
    "            print('\\nEnvironment solved in {:d} episodes!\\tAverage score: {:.5f}'.format(i_episode, average_score))\n",
    "            break\n",
    "\n",
    "    return scores\n",
    "\n",
    "with wu.active_session():\n",
    "    scores = train_maddpg(env,agents, agent0_weights_actor, agent0_weights_critic, \\\n",
    "                          agent1_weights_actor, agent1_weights_critic )\n",
    "\n",
    "# plot the scores\n",
    "fig = plt.figure()\n",
    "ax = fig.add_subplot(111)\n",
    "plt.plot(np.arange(len(scores)), scores)\n",
    "plt.ylabel('Score')\n",
    "plt.xlabel('Episode #')\n",
    "plt.show()"
   ]
  },
  {
   "cell_type": "markdown",
   "metadata": {},
   "source": [
    "### 4. Test trained Agent"
   ]
  },
  {
   "cell_type": "code",
   "execution_count": 7,
   "metadata": {},
   "outputs": [],
   "source": [
    "def test_agent(environment, agents):\n",
    "    brain_name = environment.brain_names[0]\n",
    "    environment_info = environment.reset(train_mode=False)[brain_name]\n",
    "    states = environment_info.vector_observations\n",
    "    scores = np.zeros(agents.num_agents)\n",
    "\n",
    "    while True:\n",
    "        actions = agents.act(states, add_noise=False)\n",
    "        environment_info = environment.step(actions)[brain_name]\n",
    "        next_states = environment_info.vector_observations\n",
    "        rewards = environment_info.rewards\n",
    "        dones = environment_info.local_done\n",
    "        scores += rewards\n",
    "        states = next_states\n",
    "\n",
    "        if np.any(dones):\n",
    "            break\n",
    "\n",
    "    print('Score: {}'.format(np.max(scores)))"
   ]
  },
  {
   "cell_type": "code",
   "execution_count": 8,
   "metadata": {},
   "outputs": [
    {
     "name": "stdout",
     "output_type": "stream",
     "text": [
      "Score: 2.2000000327825546\n"
     ]
    }
   ],
   "source": [
    "from maddpg import MADDPGAgents\n",
    "import torch\n",
    "\n",
    "# Set up the test agents\n",
    "agents = MADDPGAgents(state_size=state_size, action_size=action_size, num_agents=num_agents, random_seed=0)\n",
    "\n",
    "# Load the network weights\n",
    "agents.agents[0].actor.load_state_dict(torch.load(\"agent0_weights_actor.pth\"))\n",
    "agents.agents[0].critic.load_state_dict(torch.load(\"agent0_weights_critic.pth\"))\n",
    "agents.agents[1].actor.load_state_dict(torch.load(\"agent1_weights_actor.pth\"))\n",
    "agents.agents[1].critic.load_state_dict(torch.load(\"agent1_weights_critic.pth\"))\n",
    "\n",
    "# Test the agents\n",
    "test_agent(environment=env, agents=agents)"
   ]
  },
  {
   "cell_type": "code",
   "execution_count": 9,
   "metadata": {},
   "outputs": [
    {
     "data": {
      "text/plain": [
       "<bound method UnityEnvironment.close of <unityagents.environment.UnityEnvironment object at 0x7f43b05189b0>>"
      ]
     },
     "execution_count": 9,
     "metadata": {},
     "output_type": "execute_result"
    }
   ],
   "source": [
    "env.close"
   ]
  },
  {
   "cell_type": "code",
   "execution_count": null,
   "metadata": {},
   "outputs": [],
   "source": []
  }
 ],
 "metadata": {
  "kernelspec": {
   "display_name": "Python 3",
   "language": "python",
   "name": "python3"
  },
  "language_info": {
   "codemirror_mode": {
    "name": "ipython",
    "version": 3
   },
   "file_extension": ".py",
   "mimetype": "text/x-python",
   "name": "python",
   "nbconvert_exporter": "python",
   "pygments_lexer": "ipython3",
   "version": "3.6.3"
  }
 },
 "nbformat": 4,
 "nbformat_minor": 2
}
